{
 "cells": [
  {
   "cell_type": "code",
   "execution_count": null,
   "metadata": {},
   "outputs": [
    {
     "ename": "",
     "evalue": "",
     "output_type": "error",
     "traceback": [
      "\u001b[1;31mThe kernel failed to start as the Python Environment 'biostat914 (Python 3.9.18)' is no longer available. Consider selecting another kernel or refreshing the list of Python Environments."
     ]
    }
   ],
   "source": [
    "import pandas as pd\n",
    "import matplotlib.pyplot as plt\n",
    "import seaborn as sns\n",
    "import os\n",
    "import json\n",
    "\n",
    "# Step 1: Load the data\n",
    "file_path = \"data1.txt\"  # Update with your actual file path\n",
    "data = pd.read_csv(file_path, sep=\"\\t\")\n",
    "\n",
    "# Step 2: Divide data into separate files based on geneID\n",
    "output_folder = \"data\"  # Folder to save the divided files\n",
    "\n",
    "# Create the output folder if it doesn't exist\n",
    "if not os.path.exists(output_folder):\n",
    "    os.makedirs(output_folder)\n",
    "\n",
    "# Group data by geneID and save each group to a separate JSON file\n",
    "for gene_id, group in data.groupby('geneID'):\n",
    "    output_file = os.path.join(output_folder, f\"gene_{gene_id}.json\")\n",
    "    \n",
    "    # Map enhancerID and guideID to start from 1\n",
    "    enhancer_mapping = {old_id: new_id for new_id, old_id in enumerate(sorted(group['enhancerID'].unique()), start=1)}\n",
    "    guide_mapping = {old_id: new_id for new_id, old_id in enumerate(sorted(group['guideID'].unique()), start=1)}\n",
    "    \n",
    "    # Apply the mapping\n",
    "    group['enhancerID'] = group['enhancerID'].map(enhancer_mapping)\n",
    "    group['guideID'] = group['guideID'].map(guide_mapping)\n",
    "    \n",
    "    # Prepare data for Stan model\n",
    "    stan_data = {\n",
    "        'N': len(group),\n",
    "        'E': group['enhancerID'].nunique() - 1,  # Excluding control (-1)\n",
    "        'G': group['guideID'].nunique() - 1,     # Excluding control (-1)\n",
    "        'expression': group['expression'].astype(float).tolist(),\n",
    "        'enhancer_idx': group['enhancerID'].tolist(),\n",
    "        'guide_idx': group['guideID'].tolist()\n",
    "    }\n",
    "\n",
    "    # Save the data to a JSON file\n",
    "    with open(output_file, 'w') as f:\n",
    "        json.dump(stan_data, f)\n"
   ]
  },
  {
   "cell_type": "code",
   "execution_count": null,
   "metadata": {},
   "outputs": [],
   "source": []
  }
 ],
 "metadata": {
  "kernelspec": {
   "display_name": "Python 3",
   "language": "python",
   "name": "python3"
  },
  "language_info": {
   "codemirror_mode": {
    "name": "ipython",
    "version": 3
   },
   "file_extension": ".py",
   "mimetype": "text/x-python",
   "name": "python",
   "nbconvert_exporter": "python",
   "pygments_lexer": "ipython3",
   "version": "3.13.0"
  }
 },
 "nbformat": 4,
 "nbformat_minor": 2
}
